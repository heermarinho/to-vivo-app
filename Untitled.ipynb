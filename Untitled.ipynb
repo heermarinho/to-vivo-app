{
 "cells": [
  {
   "cell_type": "code",
   "execution_count": 4,
   "id": "df3a8bfd-9dec-4e99-8430-ba1b6b459bec",
   "metadata": {},
   "outputs": [],
   "source": [
    "import gradio as gr\n",
    "from requests import get,post \n",
    "from ldataflavor.Services.upload import upload_file\n",
    "from PIL import Image\n",
    "\n",
    "endpoint = \"http://172.31.70.217:5003/api/v1/verificacao/\"\n",
    "#upload_file('usr_54fbb7f880214222958ce92aef0f22f2','verifica.png','image')\n",
    "\n",
    "def autentica( tipo, url):\n",
    "    data = {\n",
    "     \"tipo\":tipo,\n",
    "      \"url\":url\n",
    "    }\n",
    "    return post(endpoint,data).json()\n",
    "\n",
    "\n",
    "def verificacao_facial(cpf_user,img):\n",
    "    im = Image.fromarray(img)\n",
    "    im.save(\"verifica.jpeg\")\n",
    "    result = upload_file(cpf_user,'verifica.jpeg','image')\n",
    "    print(result)\n",
    "    verifica = autentica(result,'facial') \n",
    "    print(verifica)\n",
    "    value = {\"verifica\":verifica,\"result\":result} #'usr_54fbb7f880214222958ce92aef0f22f2'\n",
    "    return value"
   ]
  },
  {
   "cell_type": "code",
   "execution_count": 5,
   "id": "62d4df40-c030-495d-bc41-6e0f9d706b5a",
   "metadata": {},
   "outputs": [],
   "source": [
    "audio = \"https://to-vivo-app.s3.amazonaws.com/users/usr_54fbb7f880214222958ce92aef0f22f2/record.wav\""
   ]
  },
  {
   "cell_type": "code",
   "execution_count": 6,
   "id": "317e95af-f5ad-40d1-a703-1f8c2b006d30",
   "metadata": {},
   "outputs": [
    {
     "data": {
      "text/plain": [
       "{'dados': {'url': 'https://to-vivo-app.s3.amazonaws.com/users/usr_54fbb7f880214222958ce92aef0f22f2/record.wav',\n",
       "  'tipo': 'vocal'},\n",
       " 'check': {'vocal': 'aprovado'}}"
      ]
     },
     "execution_count": 6,
     "metadata": {},
     "output_type": "execute_result"
    }
   ],
   "source": [
    "autentica(\"vocal\",audio)"
   ]
  },
  {
   "cell_type": "code",
   "execution_count": 7,
   "id": "0b3bc385-6348-400f-a182-cd510bcb535f",
   "metadata": {},
   "outputs": [],
   "source": [
    "face = \"https://to-vivo-app.s3.amazonaws.com/users/usr_54fbb7f880214222958ce92aef0f22f2/rosto_original.jpg\""
   ]
  },
  {
   "cell_type": "code",
   "execution_count": 8,
   "id": "83d8d622-fb43-4c2c-adef-90342a395366",
   "metadata": {},
   "outputs": [
    {
     "data": {
      "text/plain": [
       "{'dados': {'url': 'https://to-vivo-app.s3.amazonaws.com/users/usr_54fbb7f880214222958ce92aef0f22f2/rosto_original.jpg',\n",
       "  'tipo': 'facial'},\n",
       " 'check': {'facial': 'aprovado'}}"
      ]
     },
     "execution_count": 8,
     "metadata": {},
     "output_type": "execute_result"
    }
   ],
   "source": [
    "autentica(\"facial\",face)"
   ]
  },
  {
   "cell_type": "code",
   "execution_count": null,
   "id": "5e0b5e0e-2eb0-4446-8dd4-d47ed21b575a",
   "metadata": {},
   "outputs": [],
   "source": []
  }
 ],
 "metadata": {
  "kernelspec": {
   "display_name": "Python 3",
   "language": "python",
   "name": "python3"
  },
  "language_info": {
   "codemirror_mode": {
    "name": "ipython",
    "version": 3
   },
   "file_extension": ".py",
   "mimetype": "text/x-python",
   "name": "python",
   "nbconvert_exporter": "python",
   "pygments_lexer": "ipython3",
   "version": "3.6.9"
  }
 },
 "nbformat": 4,
 "nbformat_minor": 5
}
