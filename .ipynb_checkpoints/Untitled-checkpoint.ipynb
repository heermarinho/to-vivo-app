{
 "cells": [
  {
   "cell_type": "code",
   "execution_count": null,
   "id": "df3a8bfd-9dec-4e99-8430-ba1b6b459bec",
   "metadata": {},
   "outputs": [],
   "source": [
    "import gradio as gr\n",
    "from requests import get,post \n",
    "from ldataflavor.Services.upload import upload_file\n",
    "from PIL import Image\n",
    "\n",
    "endpoint = \"http://172.31.70.217:5003/api/v1/verificacao/\"\n",
    "#upload_file('usr_54fbb7f880214222958ce92aef0f22f2','verifica.png','image')\n",
    "\n",
    "def autentica( tipo, url):\n",
    "    data = {\n",
    "     \"tipo\":tipo,\n",
    "      \"url\":url\n",
    "    }\n",
    "    return post(endpoint,data).json()['check']['facial']\n",
    "\n",
    "\n",
    "def verificacao_facial(cpf_user,img):\n",
    "    im = Image.fromarray(img)\n",
    "    im.save(\"verifica.jpeg\")\n",
    "    result = upload_file(cpf_user,'verifica.jpeg','image')\n",
    "    print(result)\n",
    "    verifica = autentica(result,'facial') \n",
    "    print(verifica)\n",
    "    value = {\"verifica\":verifica,\"result\":result} #'usr_54fbb7f880214222958ce92aef0f22f2'\n",
    "    return value"
   ]
  },
  {
   "cell_type": "code",
   "execution_count": null,
   "id": "62d4df40-c030-495d-bc41-6e0f9d706b5a",
   "metadata": {},
   "outputs": [],
   "source": []
  }
 ],
 "metadata": {
  "kernelspec": {
   "display_name": "Python 3",
   "language": "python",
   "name": "python3"
  },
  "language_info": {
   "codemirror_mode": {
    "name": "ipython",
    "version": 3
   },
   "file_extension": ".py",
   "mimetype": "text/x-python",
   "name": "python",
   "nbconvert_exporter": "python",
   "pygments_lexer": "ipython3",
   "version": "3.6.9"
  }
 },
 "nbformat": 4,
 "nbformat_minor": 5
}
