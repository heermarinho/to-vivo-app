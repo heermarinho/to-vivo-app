{
 "cells": [
  {
   "cell_type": "markdown",
   "id": "f86c1dfd-a9cd-43c6-95fd-26decd8be9b1",
   "metadata": {},
   "source": [
    "## Cadastro de usuario"
   ]
  },
  {
   "cell_type": "code",
   "execution_count": 12,
   "id": "bcf454c2-be0d-4ed6-9c41-c3ea3f2bc52e",
   "metadata": {
    "tags": []
   },
   "outputs": [
    {
     "name": "stdout",
     "output_type": "stream",
     "text": [
      "Defaulting to user installation because normal site-packages is not writeable\n",
      "Collecting Faker\n",
      "  Downloading Faker-8.2.1-py3-none-any.whl (1.2 MB)\n",
      "\u001b[K     |████████████████████████████████| 1.2 MB 23.8 MB/s eta 0:00:01\n",
      "\u001b[?25hRequirement already satisfied: python-dateutil>=2.4 in /usr/local/lib/python3.6/dist-packages (from Faker) (2.8.1)\n",
      "Collecting text-unidecode==1.3\n",
      "  Using cached text_unidecode-1.3-py2.py3-none-any.whl (78 kB)\n",
      "Requirement already satisfied: six>=1.5 in /usr/local/lib/python3.6/dist-packages (from python-dateutil>=2.4->Faker) (1.15.0)\n",
      "Installing collected packages: text-unidecode, Faker\n",
      "Successfully installed Faker-8.2.1 text-unidecode-1.3\n"
     ]
    }
   ],
   "source": [
    "!pip3 install Faker "
   ]
  },
  {
   "cell_type": "code",
   "execution_count": 126,
   "id": "05864260-ee9d-4cad-b34d-37bbb2599500",
   "metadata": {},
   "outputs": [],
   "source": [
    "endpoint = \"http://172.31.70.217:5003/api/v1/user/\""
   ]
  },
  {
   "cell_type": "code",
   "execution_count": 127,
   "id": "2964726b-33e1-4e3e-8e76-60b342cf6586",
   "metadata": {
    "jupyter": {
     "source_hidden": true
    },
    "tags": []
   },
   "outputs": [],
   "source": [
    "def generate_cpf(): \n",
    "    import random\n",
    "    cpf = [random.randint(0, 9) for x in range(9)]                              \n",
    "                                                                                \n",
    "    for _ in range(2):                                                          \n",
    "        val = sum([(len(cpf) + 1 - i) * v for i, v in enumerate(cpf)]) % 11      \n",
    "                                                                                \n",
    "        cpf.append(11 - val if val > 1 else 0)                                  \n",
    "                                                                                \n",
    "    return '%s%s%s.%s%s%s.%s%s%s-%s%s' % tuple(cpf)"
   ]
  },
  {
   "cell_type": "code",
   "execution_count": 128,
   "id": "489972df-249d-41a3-8560-93addaa959cf",
   "metadata": {},
   "outputs": [
    {
     "data": {
      "text/plain": [
       "'860.550.480-35'"
      ]
     },
     "execution_count": 128,
     "metadata": {},
     "output_type": "execute_result"
    }
   ],
   "source": [
    "generate_cpf()"
   ]
  },
  {
   "cell_type": "code",
   "execution_count": 129,
   "id": "2d137f8b-9bab-4158-9a45-c5ad158a3e02",
   "metadata": {},
   "outputs": [
    {
     "data": {
      "text/plain": [
       "{'id': 1,\n",
       " 'nome': 'Melissa Shepard',\n",
       " 'data_nascimento': '01-12-1951',\n",
       " 'sexo': 'male',\n",
       " 'celular': '(399)861-9579x596',\n",
       " 'cpf': '110.363.085-70',\n",
       " 'numero_inss': '7048487344663',\n",
       " 'email': 'michelleshelton@hotmail.com',\n",
       " 'senha': 'LightBlue',\n",
       " 'userId': 'usr_56b03806735049b2a87d6e49062f5a25'}"
      ]
     },
     "execution_count": 129,
     "metadata": {},
     "output_type": "execute_result"
    }
   ],
   "source": [
    "from requests import get,post,put\n",
    "from faker import Faker\n",
    "fake = Faker()\n",
    "\n",
    "from random import choice,shuffle \n",
    "\n",
    "age = choice([\"05-10-1956\",\"01-12-1951\",\"05-10-1966\"])\n",
    "\n",
    "\n",
    "data = {\n",
    "    \"nome\": fake.name(),\n",
    "    \"data_nascimento\": age,\n",
    "    \"sexo\":\"male\",\n",
    "    \"celular\":fake.phone_number(),\n",
    "    \"cpf\":generate_cpf(),\n",
    "    \"numero_inss\":fake.msisdn(),\n",
    "    \"email\": fake.ascii_free_email(),\n",
    "    \"senha\":fake.color_name()\n",
    "    \n",
    "}\n",
    "\n",
    "post(endpoint,data).json()\n"
   ]
  },
  {
   "cell_type": "markdown",
   "id": "ccbdf256-5800-4f16-a0d1-f7c470565b2d",
   "metadata": {},
   "source": [
    "## Checando usuario "
   ]
  },
  {
   "cell_type": "code",
   "execution_count": 132,
   "id": "f4a30b10-b96d-45e8-8a71-713863cd16fe",
   "metadata": {},
   "outputs": [
    {
     "data": {
      "text/plain": [
       "{'id': 1,\n",
       " 'nome': 'Melissa Shepard',\n",
       " 'data_nascimento': '01-12-1951',\n",
       " 'sexo': 'famale',\n",
       " 'celular': '(399)861-9579x596',\n",
       " 'cpf': '110.363.085-70',\n",
       " 'numero_inss': '7048487344663',\n",
       " 'email': 'michelleshelton@hotmail.com',\n",
       " 'senha': 'LightBlue',\n",
       " 'userId': 'usr_56b03806735049b2a87d6e49062f5a25'}"
      ]
     },
     "execution_count": 132,
     "metadata": {},
     "output_type": "execute_result"
    }
   ],
   "source": [
    "data = {\n",
    "    \"cpf\":\"110.363.085-70\"\n",
    "}\n",
    "get(endpoint,data).json()"
   ]
  },
  {
   "cell_type": "markdown",
   "id": "915bb635-5969-44ef-9e3f-c535837a6e41",
   "metadata": {},
   "source": [
    "## Atualizando dados do Usuario"
   ]
  },
  {
   "cell_type": "code",
   "execution_count": 133,
   "id": "a4aae101-1126-43d9-b47a-d66e7cd036ff",
   "metadata": {},
   "outputs": [
    {
     "data": {
      "text/plain": [
       "{'status': 'atualizado com sucesso !'}"
      ]
     },
     "execution_count": 133,
     "metadata": {},
     "output_type": "execute_result"
    }
   ],
   "source": [
    "data = {'nome': 'Melissa Shepard',\n",
    " 'data_nascimento': '01-12-1951',\n",
    " 'sexo': 'male',\n",
    " 'celular': '(399)861-9579x596',\n",
    " 'cpf': '110.363.085-70',\n",
    " 'numero_inss': '7048487344663',\n",
    " 'email': 'michelleshelton@hotmail.com',\n",
    " 'senha': 'LightBlue',\n",
    " 'userId': 'usr_56b03806735049b2a87d6e49062f5a25'}\n",
    "\n",
    "put(endpoint,data).json()"
   ]
  },
  {
   "cell_type": "markdown",
   "id": "8a22f41e-d630-47f2-8078-4eea3a476eaf",
   "metadata": {},
   "source": [
    "## Upload Image S3"
   ]
  },
  {
   "cell_type": "code",
   "execution_count": 45,
   "id": "b2ae14ca-633e-4220-b7b1-707ac0d8f83a",
   "metadata": {},
   "outputs": [
    {
     "name": "stdout",
     "output_type": "stream",
     "text": [
      "compare.py\n",
      "einstein.jpg\n",
      "graph_opt.pb\n",
      "output_12b26471-378b-40b4-a4d8-0129eae4a8b9einstein.jpg\n",
      "output_6acbaee9-99fd-4270-bc1b-a7a85592c994einstein.jpg\n",
      "output_a41f204c-04e3-446d-9c02-5f9af823a177einstein.jpg\n",
      "output_d0169b49-a6e7-413b-a847-0c5dc5004bfeeinstein.jpg\n",
      "output_einstein.jpg\n",
      "output_einstein_compare.jpg\n",
      "output_einstein_diferente.jpg\n",
      "renato_corpo_inteiro.jpg\n",
      "test_api.py\n",
      "test_audio.py\n",
      "test_pose.py\n"
     ]
    }
   ],
   "source": [
    "!ls test/einstein.jpg\n"
   ]
  },
  {
   "cell_type": "code",
   "execution_count": null,
   "id": "f1f4def5-ee44-4551-9a00-ec9dff7bf12c",
   "metadata": {},
   "outputs": [],
   "source": []
  },
  {
   "cell_type": "code",
   "execution_count": 59,
   "id": "2e8c99aa-2729-4a40-8e16-3a9202ed3aee",
   "metadata": {},
   "outputs": [
    {
     "data": {
      "text/plain": [
       "<_io.BufferedReader name='test/einstein.jpg'>"
      ]
     },
     "execution_count": 59,
     "metadata": {},
     "output_type": "execute_result"
    }
   ],
   "source": [
    "open('test/einstein.jpg','rb')"
   ]
  },
  {
   "cell_type": "code",
   "execution_count": 136,
   "id": "9df902e9-6316-4997-addf-412f67fd0c15",
   "metadata": {},
   "outputs": [
    {
     "name": "stdout",
     "output_type": "stream",
     "text": [
      "http://172.31.70.217:5003/api/v1/upload/image\n"
     ]
    },
    {
     "data": {
      "text/plain": [
       "{'url': 'https://to-vivo-app.s3.amazonaws.com/users/usr_56b03806735049b2a87d6e49062f5a25/facial.jpg',\n",
       " 'tipo': 'facial'}"
      ]
     },
     "execution_count": 136,
     "metadata": {},
     "output_type": "execute_result"
    }
   ],
   "source": [
    "files = {'files': open('test/einstein.jpg','rb')}\n",
    "data = {\"cpf\":\"110.363.085-70\",\"tipo\":\"facial\",\"operacao\":\"check\"}\n",
    "\n",
    "#headers = {'Content-Type' : 'image/jpeg'}\n",
    "endpoint_image = 'http://172.31.70.217:5003/api/v1/upload/image'\n",
    "print(endpoint_image)\n",
    "post(url=endpoint_image,data=data,files=files).json()"
   ]
  },
  {
   "cell_type": "code",
   "execution_count": 52,
   "id": "649fc9c7-e495-4c11-bc6f-672cfa34090b",
   "metadata": {},
   "outputs": [
    {
     "data": {
      "text/plain": [
       "'http://172.31.70.217:5003/api/v1/user/'"
      ]
     },
     "execution_count": 52,
     "metadata": {},
     "output_type": "execute_result"
    }
   ],
   "source": [
    "'http://172.31.70.217:5003/api/v1/upload/image'"
   ]
  },
  {
   "cell_type": "code",
   "execution_count": 108,
   "id": "4cb8777c-f14b-4d17-a8c9-1e403174124d",
   "metadata": {},
   "outputs": [
    {
     "name": "stdout",
     "output_type": "stream",
     "text": [
      "compare.py\n",
      "einstein.jpg\n",
      "graph_opt.pb\n",
      "output_12b26471-378b-40b4-a4d8-0129eae4a8b9einstein.jpg\n",
      "output_6acbaee9-99fd-4270-bc1b-a7a85592c994einstein.jpg\n",
      "output_a41f204c-04e3-446d-9c02-5f9af823a177einstein.jpg\n",
      "output_d0169b49-a6e7-413b-a847-0c5dc5004bfeeinstein.jpg\n",
      "output_einstein.jpg\n",
      "output_einstein_compare.jpg\n",
      "output_einstein_diferente.jpg\n",
      "renato_corpo_inteiro.jpg\n",
      "test_api.py\n",
      "test_audio.py\n",
      "test_pose.py\n"
     ]
    }
   ],
   "source": [
    "!ls test"
   ]
  },
  {
   "cell_type": "markdown",
   "id": "c2898eb3-b422-48af-892c-beb2ebd6e6bd",
   "metadata": {},
   "source": [
    "### - TESTAR NOVAMENTE AUTENTICACAO "
   ]
  },
  {
   "cell_type": "code",
   "execution_count": 137,
   "id": "4561d64a-fad7-402e-bb33-fa11fe759f2f",
   "metadata": {},
   "outputs": [
    {
     "data": {
      "text/plain": [
       "{'dados': {'url': 'https://to-vivo-app.s3.amazonaws.com/users/usr_56b03806735049b2a87d6e49062f5a25/facial.jpg',\n",
       "  'tipo': 'facial'},\n",
       " 'check': {'facial': 'aprovado'}}"
      ]
     },
     "execution_count": 137,
     "metadata": {},
     "output_type": "execute_result"
    }
   ],
   "source": [
    "data_verificacao = {'url': 'https://to-vivo-app.s3.amazonaws.com/users/usr_56b03806735049b2a87d6e49062f5a25/facial.jpg',\n",
    " 'tipo': 'facial'}\n",
    "\n",
    "endpoint_verificacao = \"http://172.31.70.217:5003/api/v1/verificacao/\"\n",
    "post(endpoint_verificacao,data_verificacao).json()\n"
   ]
  },
  {
   "cell_type": "code",
   "execution_count": 3,
   "id": "b4d670d9-9296-4968-b93c-24d96abbb904",
   "metadata": {},
   "outputs": [
    {
     "data": {
      "text/html": [
       "<div>\n",
       "<style scoped>\n",
       "    .dataframe tbody tr th:only-of-type {\n",
       "        vertical-align: middle;\n",
       "    }\n",
       "\n",
       "    .dataframe tbody tr th {\n",
       "        vertical-align: top;\n",
       "    }\n",
       "\n",
       "    .dataframe thead th {\n",
       "        text-align: right;\n",
       "    }\n",
       "</style>\n",
       "<table border=\"1\" class=\"dataframe\">\n",
       "  <thead>\n",
       "    <tr style=\"text-align: right;\">\n",
       "      <th></th>\n",
       "      <th>id</th>\n",
       "      <th>nome</th>\n",
       "      <th>data_nascimento</th>\n",
       "      <th>sexo</th>\n",
       "      <th>celular</th>\n",
       "      <th>cpf</th>\n",
       "      <th>numero_inss</th>\n",
       "      <th>email</th>\n",
       "      <th>senha</th>\n",
       "      <th>userId</th>\n",
       "      <th>link_facial</th>\n",
       "      <th>link_pose</th>\n",
       "    </tr>\n",
       "  </thead>\n",
       "  <tbody>\n",
       "    <tr>\n",
       "      <th>0</th>\n",
       "      <td>1</td>\n",
       "      <td>Melissa Shepard</td>\n",
       "      <td>01-12-1951</td>\n",
       "      <td>male</td>\n",
       "      <td>(399)861-9579x596</td>\n",
       "      <td>110.363.085-70</td>\n",
       "      <td>7048487344663</td>\n",
       "      <td>michelleshelton@hotmail.com</td>\n",
       "      <td>LightBlue</td>\n",
       "      <td>usr_56b03806735049b2a87d6e49062f5a25</td>\n",
       "      <td>https://to-vivo-app.s3.amazonaws.com/users/usr...</td>\n",
       "      <td>https://to-vivo-app.s3.amazonaws.com/users/usr...</td>\n",
       "    </tr>\n",
       "  </tbody>\n",
       "</table>\n",
       "</div>"
      ],
      "text/plain": [
       "   id             nome data_nascimento  sexo            celular  \\\n",
       "0   1  Melissa Shepard      01-12-1951  male  (399)861-9579x596   \n",
       "\n",
       "              cpf    numero_inss                        email      senha  \\\n",
       "0  110.363.085-70  7048487344663  michelleshelton@hotmail.com  LightBlue   \n",
       "\n",
       "                                 userId  \\\n",
       "0  usr_56b03806735049b2a87d6e49062f5a25   \n",
       "\n",
       "                                         link_facial  \\\n",
       "0  https://to-vivo-app.s3.amazonaws.com/users/usr...   \n",
       "\n",
       "                                           link_pose  \n",
       "0  https://to-vivo-app.s3.amazonaws.com/users/usr...  "
      ]
     },
     "execution_count": 3,
     "metadata": {},
     "output_type": "execute_result"
    }
   ],
   "source": [
    "import pandas as pd \n",
    "\n",
    "db = get(\"http://172.31.70.217:5004/api/v1/admin/db\").json()\n",
    "\n",
    "df = pd.DataFrame(db)\n",
    "df"
   ]
  },
  {
   "cell_type": "markdown",
   "id": "924fdc3b-f2b7-48c9-99a3-a45697c08562",
   "metadata": {},
   "source": [
    "---\n",
    "\n",
    "### Tests ps: desconsiderar"
   ]
  },
  {
   "cell_type": "code",
   "execution_count": 125,
   "id": "df3a8bfd-9dec-4e99-8430-ba1b6b459bec",
   "metadata": {},
   "outputs": [],
   "source": [
    "import gradio as gr\n",
    "from requests import get,post \n",
    "from ldataflavor.Services.upload import upload_file\n",
    "from PIL import Image\n",
    "\n",
    "endpoint = \"http://172.31.70.217:5003/api/v1/verificacao/\"\n",
    "#upload_file('usr_54fbb7f880214222958ce92aef0f22f2','verifica.png','image')\n",
    "\n",
    "def autentica( tipo, url):\n",
    "    data = {\n",
    "     \"tipo\":tipo,\n",
    "      \"url\":url\n",
    "    }\n",
    "    return post(endpoint,data).json()\n",
    "\n",
    "\n",
    "def verificacao_facial(cpf_user,img):\n",
    "    im = Image.fromarray(img)\n",
    "    im.save(\"verifica.jpeg\")\n",
    "    result = upload_file(cpf_user,'verifica.jpeg','image')\n",
    "    print(result)\n",
    "    verifica = autentica(result,'facial') \n",
    "    print(verifica)\n",
    "    value = {\"verifica\":verifica,\"result\":result} #'usr_54fbb7f880214222958ce92aef0f22f2'\n",
    "    return value"
   ]
  },
  {
   "cell_type": "markdown",
   "id": "de02eb66-b4d7-4eff-80eb-2f4a847a20e8",
   "metadata": {},
   "source": [
    "## Validação Por Audio"
   ]
  },
  {
   "cell_type": "code",
   "execution_count": 5,
   "id": "62d4df40-c030-495d-bc41-6e0f9d706b5a",
   "metadata": {},
   "outputs": [],
   "source": [
    "audio = \"https://to-vivo-app.s3.amazonaws.com/users/usr_54fbb7f880214222958ce92aef0f22f2/record.wav\"\n",
    "autentica(\"vocal\",audio)"
   ]
  },
  {
   "cell_type": "markdown",
   "id": "d4cafe33-fd94-4775-bba6-03051e5eeca9",
   "metadata": {},
   "source": [
    "## Validação Por Rosto"
   ]
  },
  {
   "cell_type": "code",
   "execution_count": 7,
   "id": "0b3bc385-6348-400f-a182-cd510bcb535f",
   "metadata": {
    "tags": []
   },
   "outputs": [],
   "source": [
    "face = \"https://to-vivo-app.s3.amazonaws.com/users/usr_54fbb7f880214222958ce92aef0f22f2/rosto_original.jpg\"\n",
    "autentica(\"facial\",face)"
   ]
  },
  {
   "cell_type": "markdown",
   "id": "5275e5be-7223-4901-8cbf-fd35f99fed58",
   "metadata": {},
   "source": [
    "## Autenticacao com Pose Estimation"
   ]
  },
  {
   "cell_type": "code",
   "execution_count": 2,
   "id": "fce07155-dae1-4e77-b795-9d2c99fb69a6",
   "metadata": {
    "collapsed": true,
    "jupyter": {
     "outputs_hidden": true
    },
    "tags": []
   },
   "outputs": [
    {
     "ename": "JSONDecodeError",
     "evalue": "Expecting value: line 1 column 1 (char 0)",
     "output_type": "error",
     "traceback": [
      "\u001b[0;31m---------------------------------------------------------------------------\u001b[0m",
      "\u001b[0;31mJSONDecodeError\u001b[0m                           Traceback (most recent call last)",
      "\u001b[0;32m<ipython-input-2-72446fcfb73e>\u001b[0m in \u001b[0;36m<module>\u001b[0;34m\u001b[0m\n\u001b[1;32m     14\u001b[0m     }\n\u001b[1;32m     15\u001b[0m     \u001b[0;32mreturn\u001b[0m \u001b[0mpost\u001b[0m\u001b[0;34m(\u001b[0m\u001b[0mendpoint\u001b[0m\u001b[0;34m,\u001b[0m\u001b[0mdata\u001b[0m\u001b[0;34m)\u001b[0m\u001b[0;34m.\u001b[0m\u001b[0mjson\u001b[0m\u001b[0;34m(\u001b[0m\u001b[0;34m)\u001b[0m\u001b[0;34m\u001b[0m\u001b[0;34m\u001b[0m\u001b[0m\n\u001b[0;32m---> 16\u001b[0;31m \u001b[0mautentica\u001b[0m\u001b[0;34m(\u001b[0m\u001b[0;34m'pose'\u001b[0m\u001b[0;34m,\u001b[0m\u001b[0murl\u001b[0m\u001b[0;34m)\u001b[0m\u001b[0;34m\u001b[0m\u001b[0;34m\u001b[0m\u001b[0m\n\u001b[0m",
      "\u001b[0;32m<ipython-input-2-72446fcfb73e>\u001b[0m in \u001b[0;36mautentica\u001b[0;34m(tipo, url)\u001b[0m\n\u001b[1;32m     13\u001b[0m       \u001b[0;34m\"url\"\u001b[0m\u001b[0;34m:\u001b[0m\u001b[0murl\u001b[0m\u001b[0;34m\u001b[0m\u001b[0;34m\u001b[0m\u001b[0m\n\u001b[1;32m     14\u001b[0m     }\n\u001b[0;32m---> 15\u001b[0;31m     \u001b[0;32mreturn\u001b[0m \u001b[0mpost\u001b[0m\u001b[0;34m(\u001b[0m\u001b[0mendpoint\u001b[0m\u001b[0;34m,\u001b[0m\u001b[0mdata\u001b[0m\u001b[0;34m)\u001b[0m\u001b[0;34m.\u001b[0m\u001b[0mjson\u001b[0m\u001b[0;34m(\u001b[0m\u001b[0;34m)\u001b[0m\u001b[0;34m\u001b[0m\u001b[0;34m\u001b[0m\u001b[0m\n\u001b[0m\u001b[1;32m     16\u001b[0m \u001b[0mautentica\u001b[0m\u001b[0;34m(\u001b[0m\u001b[0;34m'pose'\u001b[0m\u001b[0;34m,\u001b[0m\u001b[0murl\u001b[0m\u001b[0;34m)\u001b[0m\u001b[0;34m\u001b[0m\u001b[0;34m\u001b[0m\u001b[0m\n",
      "\u001b[0;32m/usr/local/lib/python3.6/dist-packages/requests/models.py\u001b[0m in \u001b[0;36mjson\u001b[0;34m(self, **kwargs)\u001b[0m\n\u001b[1;32m    898\u001b[0m                     \u001b[0;31m# used.\u001b[0m\u001b[0;34m\u001b[0m\u001b[0;34m\u001b[0m\u001b[0;34m\u001b[0m\u001b[0m\n\u001b[1;32m    899\u001b[0m                     \u001b[0;32mpass\u001b[0m\u001b[0;34m\u001b[0m\u001b[0;34m\u001b[0m\u001b[0m\n\u001b[0;32m--> 900\u001b[0;31m         \u001b[0;32mreturn\u001b[0m \u001b[0mcomplexjson\u001b[0m\u001b[0;34m.\u001b[0m\u001b[0mloads\u001b[0m\u001b[0;34m(\u001b[0m\u001b[0mself\u001b[0m\u001b[0;34m.\u001b[0m\u001b[0mtext\u001b[0m\u001b[0;34m,\u001b[0m \u001b[0;34m**\u001b[0m\u001b[0mkwargs\u001b[0m\u001b[0;34m)\u001b[0m\u001b[0;34m\u001b[0m\u001b[0;34m\u001b[0m\u001b[0m\n\u001b[0m\u001b[1;32m    901\u001b[0m \u001b[0;34m\u001b[0m\u001b[0m\n\u001b[1;32m    902\u001b[0m     \u001b[0;34m@\u001b[0m\u001b[0mproperty\u001b[0m\u001b[0;34m\u001b[0m\u001b[0;34m\u001b[0m\u001b[0m\n",
      "\u001b[0;32m/usr/lib/python3.6/json/__init__.py\u001b[0m in \u001b[0;36mloads\u001b[0;34m(s, encoding, cls, object_hook, parse_float, parse_int, parse_constant, object_pairs_hook, **kw)\u001b[0m\n\u001b[1;32m    352\u001b[0m             \u001b[0mparse_int\u001b[0m \u001b[0;32mis\u001b[0m \u001b[0;32mNone\u001b[0m \u001b[0;32mand\u001b[0m \u001b[0mparse_float\u001b[0m \u001b[0;32mis\u001b[0m \u001b[0;32mNone\u001b[0m \u001b[0;32mand\u001b[0m\u001b[0;34m\u001b[0m\u001b[0;34m\u001b[0m\u001b[0m\n\u001b[1;32m    353\u001b[0m             parse_constant is None and object_pairs_hook is None and not kw):\n\u001b[0;32m--> 354\u001b[0;31m         \u001b[0;32mreturn\u001b[0m \u001b[0m_default_decoder\u001b[0m\u001b[0;34m.\u001b[0m\u001b[0mdecode\u001b[0m\u001b[0;34m(\u001b[0m\u001b[0ms\u001b[0m\u001b[0;34m)\u001b[0m\u001b[0;34m\u001b[0m\u001b[0;34m\u001b[0m\u001b[0m\n\u001b[0m\u001b[1;32m    355\u001b[0m     \u001b[0;32mif\u001b[0m \u001b[0mcls\u001b[0m \u001b[0;32mis\u001b[0m \u001b[0;32mNone\u001b[0m\u001b[0;34m:\u001b[0m\u001b[0;34m\u001b[0m\u001b[0;34m\u001b[0m\u001b[0m\n\u001b[1;32m    356\u001b[0m         \u001b[0mcls\u001b[0m \u001b[0;34m=\u001b[0m \u001b[0mJSONDecoder\u001b[0m\u001b[0;34m\u001b[0m\u001b[0;34m\u001b[0m\u001b[0m\n",
      "\u001b[0;32m/usr/lib/python3.6/json/decoder.py\u001b[0m in \u001b[0;36mdecode\u001b[0;34m(self, s, _w)\u001b[0m\n\u001b[1;32m    337\u001b[0m \u001b[0;34m\u001b[0m\u001b[0m\n\u001b[1;32m    338\u001b[0m         \"\"\"\n\u001b[0;32m--> 339\u001b[0;31m         \u001b[0mobj\u001b[0m\u001b[0;34m,\u001b[0m \u001b[0mend\u001b[0m \u001b[0;34m=\u001b[0m \u001b[0mself\u001b[0m\u001b[0;34m.\u001b[0m\u001b[0mraw_decode\u001b[0m\u001b[0;34m(\u001b[0m\u001b[0ms\u001b[0m\u001b[0;34m,\u001b[0m \u001b[0midx\u001b[0m\u001b[0;34m=\u001b[0m\u001b[0m_w\u001b[0m\u001b[0;34m(\u001b[0m\u001b[0ms\u001b[0m\u001b[0;34m,\u001b[0m \u001b[0;36m0\u001b[0m\u001b[0;34m)\u001b[0m\u001b[0;34m.\u001b[0m\u001b[0mend\u001b[0m\u001b[0;34m(\u001b[0m\u001b[0;34m)\u001b[0m\u001b[0;34m)\u001b[0m\u001b[0;34m\u001b[0m\u001b[0;34m\u001b[0m\u001b[0m\n\u001b[0m\u001b[1;32m    340\u001b[0m         \u001b[0mend\u001b[0m \u001b[0;34m=\u001b[0m \u001b[0m_w\u001b[0m\u001b[0;34m(\u001b[0m\u001b[0ms\u001b[0m\u001b[0;34m,\u001b[0m \u001b[0mend\u001b[0m\u001b[0;34m)\u001b[0m\u001b[0;34m.\u001b[0m\u001b[0mend\u001b[0m\u001b[0;34m(\u001b[0m\u001b[0;34m)\u001b[0m\u001b[0;34m\u001b[0m\u001b[0;34m\u001b[0m\u001b[0m\n\u001b[1;32m    341\u001b[0m         \u001b[0;32mif\u001b[0m \u001b[0mend\u001b[0m \u001b[0;34m!=\u001b[0m \u001b[0mlen\u001b[0m\u001b[0;34m(\u001b[0m\u001b[0ms\u001b[0m\u001b[0;34m)\u001b[0m\u001b[0;34m:\u001b[0m\u001b[0;34m\u001b[0m\u001b[0;34m\u001b[0m\u001b[0m\n",
      "\u001b[0;32m/usr/lib/python3.6/json/decoder.py\u001b[0m in \u001b[0;36mraw_decode\u001b[0;34m(self, s, idx)\u001b[0m\n\u001b[1;32m    355\u001b[0m             \u001b[0mobj\u001b[0m\u001b[0;34m,\u001b[0m \u001b[0mend\u001b[0m \u001b[0;34m=\u001b[0m \u001b[0mself\u001b[0m\u001b[0;34m.\u001b[0m\u001b[0mscan_once\u001b[0m\u001b[0;34m(\u001b[0m\u001b[0ms\u001b[0m\u001b[0;34m,\u001b[0m \u001b[0midx\u001b[0m\u001b[0;34m)\u001b[0m\u001b[0;34m\u001b[0m\u001b[0;34m\u001b[0m\u001b[0m\n\u001b[1;32m    356\u001b[0m         \u001b[0;32mexcept\u001b[0m \u001b[0mStopIteration\u001b[0m \u001b[0;32mas\u001b[0m \u001b[0merr\u001b[0m\u001b[0;34m:\u001b[0m\u001b[0;34m\u001b[0m\u001b[0;34m\u001b[0m\u001b[0m\n\u001b[0;32m--> 357\u001b[0;31m             \u001b[0;32mraise\u001b[0m \u001b[0mJSONDecodeError\u001b[0m\u001b[0;34m(\u001b[0m\u001b[0;34m\"Expecting value\"\u001b[0m\u001b[0;34m,\u001b[0m \u001b[0ms\u001b[0m\u001b[0;34m,\u001b[0m \u001b[0merr\u001b[0m\u001b[0;34m.\u001b[0m\u001b[0mvalue\u001b[0m\u001b[0;34m)\u001b[0m \u001b[0;32mfrom\u001b[0m \u001b[0;32mNone\u001b[0m\u001b[0;34m\u001b[0m\u001b[0;34m\u001b[0m\u001b[0m\n\u001b[0m\u001b[1;32m    358\u001b[0m         \u001b[0;32mreturn\u001b[0m \u001b[0mobj\u001b[0m\u001b[0;34m,\u001b[0m \u001b[0mend\u001b[0m\u001b[0;34m\u001b[0m\u001b[0;34m\u001b[0m\u001b[0m\n",
      "\u001b[0;31mJSONDecodeError\u001b[0m: Expecting value: line 1 column 1 (char 0)"
     ]
    }
   ],
   "source": [
    "import gradio as gr\n",
    "from requests import get,post \n",
    "from ldataflavor.Services.upload import upload_file\n",
    "from PIL import Image\n",
    "\n",
    "url = \"https://to-vivo-app.s3.amazonaws.com/users/usr_54fbb7f880214222958ce92aef0f22f2/renato_corpo_inteiro.jpg\"\n",
    "endpoint = \"http://172.31.70.217:5004/api/v1/verificacao/\"\n",
    "#upload_file('usr_54fbb7f880214222958ce92aef0f22f2','verifica.png','image')\n",
    "\n",
    "def autentica( tipo, url):\n",
    "    data = {\n",
    "     \"tipo\":tipo,\n",
    "      \"url\":url\n",
    "    }\n",
    "    return post(endpoint,data).json()\n",
    "autentica('pose',url)"
   ]
  },
  {
   "cell_type": "code",
   "execution_count": null,
   "id": "8c4cd110-b20b-4db6-81b5-5ea49596f9c0",
   "metadata": {},
   "outputs": [],
   "source": []
  }
 ],
 "metadata": {
  "kernelspec": {
   "display_name": "Python 3",
   "language": "python",
   "name": "python3"
  },
  "language_info": {
   "codemirror_mode": {
    "name": "ipython",
    "version": 3
   },
   "file_extension": ".py",
   "mimetype": "text/x-python",
   "name": "python",
   "nbconvert_exporter": "python",
   "pygments_lexer": "ipython3",
   "version": "3.6.9"
  }
 },
 "nbformat": 4,
 "nbformat_minor": 5
}
