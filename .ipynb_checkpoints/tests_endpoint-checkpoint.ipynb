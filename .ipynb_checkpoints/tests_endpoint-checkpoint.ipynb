{
 "cells": [
  {
   "cell_type": "code",
   "execution_count": 4,
   "id": "df3a8bfd-9dec-4e99-8430-ba1b6b459bec",
   "metadata": {},
   "outputs": [],
   "source": [
    "import gradio as gr\n",
    "from requests import get,post \n",
    "from ldataflavor.Services.upload import upload_file\n",
    "from PIL import Image\n",
    "\n",
    "endpoint = \"http://172.31.70.217:5003/api/v1/verificacao/\"\n",
    "#upload_file('usr_54fbb7f880214222958ce92aef0f22f2','verifica.png','image')\n",
    "\n",
    "def autentica( tipo, url):\n",
    "    data = {\n",
    "     \"tipo\":tipo,\n",
    "      \"url\":url\n",
    "    }\n",
    "    return post(endpoint,data).json()\n",
    "\n",
    "\n",
    "def verificacao_facial(cpf_user,img):\n",
    "    im = Image.fromarray(img)\n",
    "    im.save(\"verifica.jpeg\")\n",
    "    result = upload_file(cpf_user,'verifica.jpeg','image')\n",
    "    print(result)\n",
    "    verifica = autentica(result,'facial') \n",
    "    print(verifica)\n",
    "    value = {\"verifica\":verifica,\"result\":result} #'usr_54fbb7f880214222958ce92aef0f22f2'\n",
    "    return value"
   ]
  },
  {
   "cell_type": "markdown",
   "id": "de02eb66-b4d7-4eff-80eb-2f4a847a20e8",
   "metadata": {},
   "source": [
    "## Validação Por Audio"
   ]
  },
  {
   "cell_type": "code",
   "execution_count": 5,
   "id": "62d4df40-c030-495d-bc41-6e0f9d706b5a",
   "metadata": {},
   "outputs": [],
   "source": [
    "audio = \"https://to-vivo-app.s3.amazonaws.com/users/usr_54fbb7f880214222958ce92aef0f22f2/record.wav\""
   ]
  },
  {
   "cell_type": "code",
   "execution_count": 6,
   "id": "317e95af-f5ad-40d1-a703-1f8c2b006d30",
   "metadata": {},
   "outputs": [
    {
     "data": {
      "text/plain": [
       "{'dados': {'url': 'https://to-vivo-app.s3.amazonaws.com/users/usr_54fbb7f880214222958ce92aef0f22f2/record.wav',\n",
       "  'tipo': 'vocal'},\n",
       " 'check': {'vocal': 'aprovado'}}"
      ]
     },
     "execution_count": 6,
     "metadata": {},
     "output_type": "execute_result"
    }
   ],
   "source": [
    "autentica(\"vocal\",audio)"
   ]
  },
  {
   "cell_type": "markdown",
   "id": "d4cafe33-fd94-4775-bba6-03051e5eeca9",
   "metadata": {},
   "source": [
    "## Validação Por Rosto"
   ]
  },
  {
   "cell_type": "code",
   "execution_count": 7,
   "id": "0b3bc385-6348-400f-a182-cd510bcb535f",
   "metadata": {},
   "outputs": [],
   "source": [
    "face = \"https://to-vivo-app.s3.amazonaws.com/users/usr_54fbb7f880214222958ce92aef0f22f2/rosto_original.jpg\""
   ]
  },
  {
   "cell_type": "code",
   "execution_count": 8,
   "id": "83d8d622-fb43-4c2c-adef-90342a395366",
   "metadata": {},
   "outputs": [
    {
     "data": {
      "text/plain": [
       "{'dados': {'url': 'https://to-vivo-app.s3.amazonaws.com/users/usr_54fbb7f880214222958ce92aef0f22f2/rosto_original.jpg',\n",
       "  'tipo': 'facial'},\n",
       " 'check': {'facial': 'aprovado'}}"
      ]
     },
     "execution_count": 8,
     "metadata": {},
     "output_type": "execute_result"
    }
   ],
   "source": [
    "autentica(\"facial\",face)"
   ]
  },
  {
   "cell_type": "markdown",
   "id": "5275e5be-7223-4901-8cbf-fd35f99fed58",
   "metadata": {},
   "source": [
    "## Autenticacao com Pose Estimation"
   ]
  },
  {
   "cell_type": "code",
   "execution_count": 1,
   "id": "ab63ac81-03c6-4ce0-ab48-7d33528fc174",
   "metadata": {},
   "outputs": [],
   "source": [
    "url = \"https://to-vivo-app.s3.amazonaws.com/users/usr_54fbb7f880214222958ce92aef0f22f2/renato_corpo_inteiro.jpg\""
   ]
  },
  {
   "cell_type": "code",
   "execution_count": 2,
   "id": "fce07155-dae1-4e77-b795-9d2c99fb69a6",
   "metadata": {},
   "outputs": [],
   "source": [
    "import gradio as gr\n",
    "from requests import get,post \n",
    "from ldataflavor.Services.upload import upload_file\n",
    "from PIL import Image\n",
    "\n",
    "endpoint = \"http://172.31.70.217:5003/api/v1/verificacao/\"\n",
    "#upload_file('usr_54fbb7f880214222958ce92aef0f22f2','verifica.png','image')\n",
    "\n",
    "def autentica( tipo, url):\n",
    "    data = {\n",
    "     \"tipo\":tipo,\n",
    "      \"url\":url\n",
    "    }\n",
    "    return post(endpoint,data).json()\n"
   ]
  },
  {
   "cell_type": "code",
   "execution_count": 4,
   "id": "5bb2fcc6-df39-4bf3-af60-f30c849bcaf0",
   "metadata": {},
   "outputs": [
    {
     "data": {
      "text/plain": [
       "{'dados': {'url': 'https://to-vivo-app.s3.amazonaws.com/users/usr_54fbb7f880214222958ce92aef0f22f2/renato_corpo_inteiro.jpg',\n",
       "  'tipo': 'pose'},\n",
       " 'check': {'pose': 'aprovado'}}"
      ]
     },
     "execution_count": 4,
     "metadata": {},
     "output_type": "execute_result"
    }
   ],
   "source": [
    "autentica('pose',url)"
   ]
  },
  {
   "cell_type": "markdown",
   "id": "f86c1dfd-a9cd-43c6-95fd-26decd8be9b1",
   "metadata": {},
   "source": [
    "## Cadastro de usuario"
   ]
  },
  {
   "cell_type": "code",
   "execution_count": 12,
   "id": "bcf454c2-be0d-4ed6-9c41-c3ea3f2bc52e",
   "metadata": {
    "tags": []
   },
   "outputs": [
    {
     "name": "stdout",
     "output_type": "stream",
     "text": [
      "Defaulting to user installation because normal site-packages is not writeable\n",
      "Collecting Faker\n",
      "  Downloading Faker-8.2.1-py3-none-any.whl (1.2 MB)\n",
      "\u001b[K     |████████████████████████████████| 1.2 MB 23.8 MB/s eta 0:00:01\n",
      "\u001b[?25hRequirement already satisfied: python-dateutil>=2.4 in /usr/local/lib/python3.6/dist-packages (from Faker) (2.8.1)\n",
      "Collecting text-unidecode==1.3\n",
      "  Using cached text_unidecode-1.3-py2.py3-none-any.whl (78 kB)\n",
      "Requirement already satisfied: six>=1.5 in /usr/local/lib/python3.6/dist-packages (from python-dateutil>=2.4->Faker) (1.15.0)\n",
      "Installing collected packages: text-unidecode, Faker\n",
      "Successfully installed Faker-8.2.1 text-unidecode-1.3\n"
     ]
    }
   ],
   "source": [
    "!pip3 install Faker "
   ]
  },
  {
   "cell_type": "code",
   "execution_count": 32,
   "id": "05864260-ee9d-4cad-b34d-37bbb2599500",
   "metadata": {},
   "outputs": [],
   "source": [
    "endpoint = \"http://172.31.70.217:5003/api/v1/user/\""
   ]
  },
  {
   "cell_type": "code",
   "execution_count": 16,
   "id": "2964726b-33e1-4e3e-8e76-60b342cf6586",
   "metadata": {
    "tags": []
   },
   "outputs": [],
   "source": [
    "def generate_cpf(): \n",
    "    import random\n",
    "    cpf = [random.randint(0, 9) for x in range(9)]                              \n",
    "                                                                                \n",
    "    for _ in range(2):                                                          \n",
    "        val = sum([(len(cpf) + 1 - i) * v for i, v in enumerate(cpf)]) % 11      \n",
    "                                                                                \n",
    "        cpf.append(11 - val if val > 1 else 0)                                  \n",
    "                                                                                \n",
    "    return '%s%s%s.%s%s%s.%s%s%s-%s%s' % tuple(cpf)"
   ]
  },
  {
   "cell_type": "code",
   "execution_count": 17,
   "id": "489972df-249d-41a3-8560-93addaa959cf",
   "metadata": {},
   "outputs": [
    {
     "data": {
      "text/plain": [
       "'080.302.790-78'"
      ]
     },
     "execution_count": 17,
     "metadata": {},
     "output_type": "execute_result"
    }
   ],
   "source": [
    "generate_cpf()"
   ]
  },
  {
   "cell_type": "code",
   "execution_count": 90,
   "id": "2d137f8b-9bab-4158-9a45-c5ad158a3e02",
   "metadata": {},
   "outputs": [
    {
     "data": {
      "text/plain": [
       "{'id': 4,\n",
       " 'nome': 'Juan Moore',\n",
       " 'data_nascimento': '05-10-1956',\n",
       " 'sexo': 'male',\n",
       " 'celular': '104.920.9565x5013',\n",
       " 'cpf': '193.897.554-50',\n",
       " 'numero_inss': '0006960125904',\n",
       " 'email': 'ybonilla@gmail.com',\n",
       " 'senha': 'FloralWhite',\n",
       " 'userId': 'usr_07bc6ee2e1d14592b69088100ed22fb2'}"
      ]
     },
     "execution_count": 90,
     "metadata": {},
     "output_type": "execute_result"
    }
   ],
   "source": [
    "from requests import get,post,put\n",
    "from faker import Faker\n",
    "fake = Faker()\n",
    "\n",
    "from random import choice,shuffle \n",
    "\n",
    "age = choice([\"05-10-1956\",\"01-12-1951\",\"05-10-1966\"])\n",
    "\n",
    "\n",
    "data = {\n",
    "    \"nome\": fake.name(),\n",
    "    \"data_nascimento\": age,\n",
    "    \"sexo\":\"male\",\n",
    "    \"celular\":fake.phone_number(),\n",
    "    \"cpf\":generate_cpf(),\n",
    "    \"numero_inss\":fake.msisdn(),\n",
    "    \"email\": fake.ascii_free_email(),\n",
    "    \"senha\":fake.color_name()\n",
    "    \n",
    "}\n",
    "\n",
    "post(endpoint,data).json()\n"
   ]
  },
  {
   "cell_type": "markdown",
   "id": "ccbdf256-5800-4f16-a0d1-f7c470565b2d",
   "metadata": {},
   "source": [
    "## Checando usuario "
   ]
  },
  {
   "cell_type": "code",
   "execution_count": 42,
   "id": "f4a30b10-b96d-45e8-8a71-713863cd16fe",
   "metadata": {},
   "outputs": [
    {
     "data": {
      "text/plain": [
       "{'id': 1,\n",
       " 'nome': 'Dr. Kevin Mendoza',\n",
       " 'data_nascimento': '01-12-1951',\n",
       " 'sexo': 'male',\n",
       " 'celular': '(697)277-7647x5679',\n",
       " 'cpf': '231.549.182-72',\n",
       " 'numero_inss': '1723249058557',\n",
       " 'email': 'scampbell@yahoo.com',\n",
       " 'senha': 'Cyan'}"
      ]
     },
     "execution_count": 42,
     "metadata": {},
     "output_type": "execute_result"
    }
   ],
   "source": [
    "data = {\n",
    "    \"cpf\":\"231.549.182-72\"\n",
    "}\n",
    "get(endpoint,data).json()"
   ]
  },
  {
   "cell_type": "markdown",
   "id": "915bb635-5969-44ef-9e3f-c535837a6e41",
   "metadata": {},
   "source": [
    "## Atualizando dados do Usuario"
   ]
  },
  {
   "cell_type": "code",
   "execution_count": 39,
   "id": "a4aae101-1126-43d9-b47a-d66e7cd036ff",
   "metadata": {},
   "outputs": [
    {
     "data": {
      "text/plain": [
       "{'status': 'atualizado com sucesso !'}"
      ]
     },
     "execution_count": 39,
     "metadata": {},
     "output_type": "execute_result"
    }
   ],
   "source": [
    "data = {\n",
    " 'nome': 'Dr. Kevin Mendoza',\n",
    " 'data_nascimento': '01-12-1951',\n",
    " 'sexo': 'male',\n",
    " 'celular': '(697)277-7647x5679',\n",
    " 'cpf': '222.222.222-22',\n",
    " 'numero_inss': '1723249058557',\n",
    " 'email': 'scampbell@yahoo.com',\n",
    " 'senha': 'Cyan'}\n",
    "\n",
    "put(endpoint,data).json()"
   ]
  },
  {
   "cell_type": "markdown",
   "id": "8a22f41e-d630-47f2-8078-4eea3a476eaf",
   "metadata": {},
   "source": [
    "## Upload Image S3"
   ]
  },
  {
   "cell_type": "code",
   "execution_count": 45,
   "id": "b2ae14ca-633e-4220-b7b1-707ac0d8f83a",
   "metadata": {},
   "outputs": [
    {
     "name": "stdout",
     "output_type": "stream",
     "text": [
      "compare.py\n",
      "einstein.jpg\n",
      "graph_opt.pb\n",
      "output_12b26471-378b-40b4-a4d8-0129eae4a8b9einstein.jpg\n",
      "output_6acbaee9-99fd-4270-bc1b-a7a85592c994einstein.jpg\n",
      "output_a41f204c-04e3-446d-9c02-5f9af823a177einstein.jpg\n",
      "output_d0169b49-a6e7-413b-a847-0c5dc5004bfeeinstein.jpg\n",
      "output_einstein.jpg\n",
      "output_einstein_compare.jpg\n",
      "output_einstein_diferente.jpg\n",
      "renato_corpo_inteiro.jpg\n",
      "test_api.py\n",
      "test_audio.py\n",
      "test_pose.py\n"
     ]
    }
   ],
   "source": [
    "!ls test/einstein.jpg\n"
   ]
  },
  {
   "cell_type": "code",
   "execution_count": null,
   "id": "f1f4def5-ee44-4551-9a00-ec9dff7bf12c",
   "metadata": {},
   "outputs": [],
   "source": []
  },
  {
   "cell_type": "code",
   "execution_count": 59,
   "id": "2e8c99aa-2729-4a40-8e16-3a9202ed3aee",
   "metadata": {},
   "outputs": [
    {
     "data": {
      "text/plain": [
       "<_io.BufferedReader name='test/einstein.jpg'>"
      ]
     },
     "execution_count": 59,
     "metadata": {},
     "output_type": "execute_result"
    }
   ],
   "source": [
    "open('test/einstein.jpg','rb')"
   ]
  },
  {
   "cell_type": "code",
   "execution_count": 107,
   "id": "9df902e9-6316-4997-addf-412f67fd0c15",
   "metadata": {},
   "outputs": [
    {
     "name": "stdout",
     "output_type": "stream",
     "text": [
      "http://172.31.70.217:5003/api/v1/upload/image\n"
     ]
    },
    {
     "data": {
      "text/plain": [
       "{'url': 'https://to-vivo-app.s3.amazonaws.com/users/usr_07bc6ee2e1d14592b69088100ed22fb2/pose.jpg',\n",
       " 'tipo': 'pose'}"
      ]
     },
     "execution_count": 107,
     "metadata": {},
     "output_type": "execute_result"
    }
   ],
   "source": [
    "files = {'files': open('test/einstein.jpg','rb')}\n",
    "data = {\"cpf\":\"12312345687\",\"tipo\":\"facial\",\"operacao\":\"cadastro\"}\n",
    "\n",
    "#headers = {'Content-Type' : 'image/jpeg'}\n",
    "endpoint_image = 'http://172.31.70.217:5003/api/v1/upload/image'\n",
    "print(endpoint_image)\n",
    "post(url=endpoint_image,data=data,files=files).json()"
   ]
  },
  {
   "cell_type": "code",
   "execution_count": 52,
   "id": "649fc9c7-e495-4c11-bc6f-672cfa34090b",
   "metadata": {},
   "outputs": [
    {
     "data": {
      "text/plain": [
       "'http://172.31.70.217:5003/api/v1/user/'"
      ]
     },
     "execution_count": 52,
     "metadata": {},
     "output_type": "execute_result"
    }
   ],
   "source": [
    "'http://172.31.70.217:5003/api/v1/upload/image'"
   ]
  },
  {
   "cell_type": "code",
   "execution_count": 108,
   "id": "4cb8777c-f14b-4d17-a8c9-1e403174124d",
   "metadata": {},
   "outputs": [
    {
     "name": "stdout",
     "output_type": "stream",
     "text": [
      "compare.py\n",
      "einstein.jpg\n",
      "graph_opt.pb\n",
      "output_12b26471-378b-40b4-a4d8-0129eae4a8b9einstein.jpg\n",
      "output_6acbaee9-99fd-4270-bc1b-a7a85592c994einstein.jpg\n",
      "output_a41f204c-04e3-446d-9c02-5f9af823a177einstein.jpg\n",
      "output_d0169b49-a6e7-413b-a847-0c5dc5004bfeeinstein.jpg\n",
      "output_einstein.jpg\n",
      "output_einstein_compare.jpg\n",
      "output_einstein_diferente.jpg\n",
      "renato_corpo_inteiro.jpg\n",
      "test_api.py\n",
      "test_audio.py\n",
      "test_pose.py\n"
     ]
    }
   ],
   "source": [
    "!ls test"
   ]
  },
  {
   "cell_type": "code",
   "execution_count": null,
   "id": "3de67de5-8641-4b29-bf4f-beddc7a1b3a8",
   "metadata": {},
   "outputs": [],
   "source": []
  }
 ],
 "metadata": {
  "kernelspec": {
   "display_name": "Python 3",
   "language": "python",
   "name": "python3"
  },
  "language_info": {
   "codemirror_mode": {
    "name": "ipython",
    "version": 3
   },
   "file_extension": ".py",
   "mimetype": "text/x-python",
   "name": "python",
   "nbconvert_exporter": "python",
   "pygments_lexer": "ipython3",
   "version": "3.6.9"
  }
 },
 "nbformat": 4,
 "nbformat_minor": 5
}
